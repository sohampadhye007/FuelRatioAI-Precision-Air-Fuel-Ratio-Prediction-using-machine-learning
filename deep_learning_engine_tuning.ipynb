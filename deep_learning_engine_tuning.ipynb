{
  "nbformat": 4,
  "nbformat_minor": 0,
  "metadata": {
    "colab": {
      "provenance": []
    },
    "kernelspec": {
      "name": "python3",
      "display_name": "Python 3"
    },
    "language_info": {
      "name": "python"
    }
  },
  "cells": [
    {
      "cell_type": "code",
      "execution_count": null,
      "metadata": {
        "colab": {
          "base_uri": "https://localhost:8080/"
        },
        "id": "q_DgTnSXFMqx",
        "outputId": "c748ac56-8495-4ede-e372-99f4b495c146"
      },
      "outputs": [
        {
          "output_type": "stream",
          "name": "stdout",
          "text": [
            "  Time (sec)  RPM Air Temp (C) Coolant Temp (C) TPS (%) MAP (kPa)  \\\n",
            "0          0  329           45               89       1    101.77   \n",
            "1       0.02  329           45               89     1.1    102.46   \n",
            "2       0.04  329           45               89     1.6    103.01   \n",
            "3       0.06  329           45               89     2.1    103.56   \n",
            "4       0.08  329           45               89     2.4    112.11   \n",
            "\n",
            "  Fuel Open Time (ms) Accel Compensation - Fuel (%)  \\\n",
            "0                4.91                           100   \n",
            "1                4.91                           100   \n",
            "2                4.91                           100   \n",
            "3                4.91                           100   \n",
            "4                4.91                           100   \n",
            "\n",
            "  Starting Compensation - Fuel (%)  Coolant Temp Compensation - Fuel (%)  \\\n",
            "0                            110.6                                 108.1   \n",
            "1                            110.6                                 108.1   \n",
            "2                            110.6                                 108.1   \n",
            "3                            110.6                                 108.1   \n",
            "4                            110.6                                 108.1   \n",
            "\n",
            "   Map Compensation - Fuel (%)  Ignition Angle (DBTDC)  \\\n",
            "0                        100.1                    10.0   \n",
            "1                        100.1                    10.0   \n",
            "2                        100.1                    10.0   \n",
            "3                        100.1                    10.0   \n",
            "4                        100.1                    10.0   \n",
            "\n",
            "   Coolant Temp Compensation - Ignition (deg)  Measured Lambda #1  \\\n",
            "0                                         0.0                 1.2   \n",
            "1                                         0.0                 1.2   \n",
            "2                                         0.0                 1.2   \n",
            "3                                         0.0                 1.2   \n",
            "4                                         0.0                 1.2   \n",
            "\n",
            "   Target Lambda  Accel Base Comp (%)  \n",
            "0           0.95                123.5  \n",
            "1           0.95                123.5  \n",
            "2           0.95                123.5  \n",
            "3           0.95                123.5  \n",
            "4           0.95                123.5  \n",
            "Missing Values:\n",
            " Time (sec)                                    0\n",
            "RPM                                           0\n",
            "Air Temp (C)                                  0\n",
            "Coolant Temp (C)                              0\n",
            "TPS (%)                                       0\n",
            "MAP (kPa)                                     0\n",
            "Fuel Open Time (ms)                           0\n",
            "Accel Compensation - Fuel (%)                 0\n",
            "Starting Compensation - Fuel (%)              0\n",
            "Coolant Temp Compensation - Fuel (%)          0\n",
            "Map Compensation - Fuel (%)                   0\n",
            "Ignition Angle (DBTDC)                        0\n",
            "Coolant Temp Compensation - Ignition (deg)    0\n",
            "Measured Lambda #1                            0\n",
            "Target Lambda                                 0\n",
            "Accel Base Comp (%)                           0\n",
            "dtype: int64\n"
          ]
        },
        {
          "output_type": "stream",
          "name": "stderr",
          "text": [
            "<ipython-input-1-cedf39079c4c>:18: FutureWarning: The default value of numeric_only in DataFrame.mean is deprecated. In a future version, it will default to False. In addition, specifying 'numeric_only=None' is deprecated. Select only valid columns or specify the value of numeric_only to silence this warning.\n",
            "  data.fillna(data.mean(), inplace=True)\n"
          ]
        }
      ],
      "source": [
        "import pandas as pd\n",
        "\n",
        "# Load your dataset from a CSV file (replace 'your_dataset.csv' with the actual file path)\n",
        "data = pd.read_csv('FB_auto_testing.csv')\n",
        "\n",
        "# Drop rows after row 32495 (inclusive)\n",
        "data.drop(range(32496, len(data)), inplace=True)\n",
        "\n",
        "# Display the first few rows of the dataset to get an overview\n",
        "print(data.head())\n",
        "\n",
        "# Check for missing values and handle them if necessary\n",
        "missing_values = data.isnull().sum()\n",
        "print(\"Missing Values:\\n\", missing_values)\n",
        "\n",
        "# If there are missing values, you can choose to drop or fill them\n",
        "# For example, you can fill missing numerical values with the mean\n",
        "data.fillna(data.mean(), inplace=True)\n",
        "\n",
        "\n",
        "\n",
        "# Separate the target variable (e.g., 'Target Lambda') from the predictors\n",
        "X = data.drop(columns=['Target Lambda'])\n",
        "y = data['Target Lambda']\n",
        "\n",
        "# Now, you have X (predictor variables) and y (target variable) ready for model training"
      ]
    },
    {
      "cell_type": "code",
      "source": [
        "import pandas as pd\n",
        "import numpy as np\n",
        "from sklearn.ensemble import RandomForestRegressor\n",
        "import matplotlib.pyplot as plt\n",
        "\n",
        "# Load your preprocessed dataset (X and y) from the previous step\n",
        "# For demonstration purposes, we'll use a synthetic dataset here\n",
        "# Replace this with your actual dataset\n",
        "# X, y = ...\n",
        "\n",
        "# Calculate feature correlations with the target variable (\"Target Lambda\")\n",
        "correlations = X.corrwith(y)\n",
        "\n",
        "# Sort features by their absolute correlation with the target\n",
        "correlations = correlations.abs().sort_values(ascending=False)\n",
        "\n",
        "# Plot feature correlations\n",
        "plt.figure(figsize=(10, 6))\n",
        "correlations.plot(kind='bar')\n",
        "plt.title('Feature Correlations with Target Lambda')\n",
        "plt.ylabel('Absolute Correlation')\n",
        "plt.xticks(rotation=45)\n",
        "plt.show()\n",
        "\n",
        "# Select the top N features based on correlation (you can choose an appropriate threshold)\n",
        "top_n_features = 5\n",
        "selected_features_corr = correlations.index[:top_n_features]\n",
        "\n",
        "# Perform feature selection using a tree-based model (Random Forest)\n",
        "rf = RandomForestRegressor(n_estimators=100, random_state=42)\n",
        "rf.fit(X, y)\n",
        "\n",
        "# Get feature importances from the Random Forest model\n",
        "feature_importances = rf.feature_importances_\n",
        "\n",
        "# Sort features by their importance score\n",
        "indices = np.argsort(feature_importances)[::-1]\n",
        "\n",
        "# Plot feature importances\n",
        "plt.figure(figsize=(10, 6))\n",
        "plt.bar(range(top_n_features), feature_importances[indices][:top_n_features])\n",
        "plt.title('Feature Importances (Random Forest)')\n",
        "plt.ylabel('Importance Score')\n",
        "plt.xticks(range(top_n_features), X.columns[indices][:top_n_features], rotation=45)\n",
        "plt.show()\n",
        "\n",
        "# Select the top N features based on feature importance\n",
        "selected_features_rf = X.columns[indices][:top_n_features]\n",
        "\n",
        "# Combine both methods or choose one based on your preference\n",
        "selected_features = set(selected_features_corr) | set(selected_features_rf)\n",
        "\n",
        "# Now, 'selected_features' contains the features you've chosen for your model\n",
        "# You can use these features to train your machine learning model\n"
      ],
      "metadata": {
        "colab": {
          "base_uri": "https://localhost:8080/",
          "height": 1000
        },
        "id": "nVwjiQ5xFxbZ",
        "outputId": "c2ef726b-9aa9-4771-9c91-7d4be28d5a70"
      },
      "execution_count": null,
      "outputs": [
        {
          "output_type": "stream",
          "name": "stderr",
          "text": [
            "<ipython-input-4-33306a144b3f>:12: FutureWarning: The default value of numeric_only in DataFrame.corrwith is deprecated. In a future version, it will default to False. Select only valid columns or specify the value of numeric_only to silence this warning.\n",
            "  correlations = X.corrwith(y)\n"
          ]
        },
        {
          "output_type": "display_data",
          "data": {
            "text/plain": [
              "<Figure size 1000x600 with 1 Axes>"
            ],
            "image/png": "[encoded data removed]"
          },
          "metadata": {}
        },
        {
          "output_type": "display_data",
          "data": {
            "text/plain": [
              "<Figure size 1000x600 with 1 Axes>"
            ],
            "image/png": "[encoded data removed]"
          },
          "metadata": {}
        }
      ]
    },
    {
      "cell_type": "code",
      "source": [
        "from sklearn.model_selection import train_test_split\n",
        "\n",
        "# Split the dataset into training and test sets\n",
        "# Adjust the test_size parameter to control the proportion of data in the test set\n",
        "X_train, X_test, y_train, y_test = train_test_split(X[selected_features], y, test_size=0.2, random_state=42)\n",
        "\n",
        "# Print the shapes of the resulting sets to verify the split\n",
        "print(\"Training set - X:\", X_train.shape, \"y:\", y_train.shape)\n",
        "print(\"Test set - X:\", X_test.shape, \"y:\", y_test.shape)\n"
      ],
      "metadata": {
        "colab": {
          "base_uri": "https://localhost:8080/"
        },
        "id": "kOGqcUiVFsRe",
        "outputId": "9335325a-5406-47d6-d4d5-38b63b31bc6c"
      },
      "execution_count": null,
      "outputs": [
        {
          "output_type": "stream",
          "name": "stdout",
          "text": [
            "Training set - X: (25996, 9) y: (25996,)\n",
            "Test set - X: (6500, 9) y: (6500,)\n"
          ]
        },
        {
          "output_type": "stream",
          "name": "stderr",
          "text": [
            "<ipython-input-9-2095902d2b0e>:5: FutureWarning: Passing a set as an indexer is deprecated and will raise in a future version. Use a list instead.\n",
            "  X_train, X_test, y_train, y_test = train_test_split(X[selected_features], y, test_size=0.2, random_state=42)\n"
          ]
        }
      ]
    },
    {
      "cell_type": "code",
      "source": [
        "import pandas as pd\n",
        "import torch\n",
        "import torch.nn as nn\n",
        "from torch.utils.data import Dataset, DataLoader\n",
        "\n",
        "\n",
        "\n",
        "# Assuming you have already selected your features and target variable\n",
        "# selected_features = ['feature1', 'feature2', 'feature3']  # Adjust with your selected features\n",
        "target_variable = 'Target Lambda'  # Adjust with your target variable\n",
        "\n",
        "# Split the data into features (X) and target variable (y)\n",
        "X = data[selected_features]\n",
        "y = data[target_variable]\n",
        "\n"
      ],
      "metadata": {
        "colab": {
          "base_uri": "https://localhost:8080/"
        },
        "id": "7y-4czDnFh_m",
        "outputId": "8144bd5e-468b-4456-8867-9dba0c31f1a3"
      },
      "execution_count": null,
      "outputs": [
        {
          "output_type": "stream",
          "name": "stderr",
          "text": [
            "<ipython-input-13-a00afa81f056>:13: FutureWarning: Passing a set as an indexer is deprecated and will raise in a future version. Use a list instead.\n",
            "  X = data[selected_features]\n"
          ]
        }
      ]
    },
    {
      "cell_type": "code",
      "source": [
        "\n",
        "# Split the data into features (X) and target variable (y)\n",
        "X = data[selected_features].astype('float64')  # Convert X to float64\n",
        "y = data[target_variable].astype('float64')    # Convert y to float\n"
      ],
      "metadata": {
        "colab": {
          "base_uri": "https://localhost:8080/"
        },
        "id": "Ng1IaKfCHI1-",
        "outputId": "f7fc3ab2-f3a0-4f5b-87be-e56dbaf289db"
      },
      "execution_count": null,
      "outputs": [
        {
          "output_type": "stream",
          "name": "stderr",
          "text": [
            "<ipython-input-14-139d3af3194f>:2: FutureWarning: Passing a set as an indexer is deprecated and will raise in a future version. Use a list instead.\n",
            "  X = data[selected_features].astype('float64')  # Convert X to float64\n"
          ]
        }
      ]
    },
    {
      "cell_type": "code",
      "source": [
        "import matplotlib.pyplot as plt\n",
        "\n",
        "# Define a custom dataset class\n",
        "class CustomDataset(Dataset):\n",
        "    def __init__(self, X, y):\n",
        "        self.X = torch.tensor(X.values, dtype=torch.float32)\n",
        "        self.y = torch.tensor(y.values, dtype=torch.float32)\n",
        "\n",
        "    def __len__(self):\n",
        "        return len(self.X)\n",
        "\n",
        "    def __getitem__(self, idx):\n",
        "        return self.X[idx], self.y[idx]\n",
        "\n",
        "# Split the dataset into training and test sets\n",
        "train_size = int(0.8 * len(X))\n",
        "test_size = len(X) - train_size\n",
        "\n",
        "X_train, X_test = X[:train_size], X[train_size:]\n",
        "y_train, y_test = y[:train_size], y[train_size:]\n",
        "\n",
        "# Create instances of CustomDataset\n",
        "train_dataset = CustomDataset(X_train, y_train)\n",
        "test_dataset = CustomDataset(X_test, y_test)\n",
        "\n",
        "# Create DataLoader objects for batching\n",
        "batch_size = 64\n",
        "train_loader = DataLoader(train_dataset, batch_size=batch_size, shuffle=True)\n",
        "test_loader = DataLoader(test_dataset, batch_size=batch_size)\n",
        "\n",
        "# Define the neural network model\n",
        "class RegressionModel(nn.Module):\n",
        "    def __init__(self, input_size):\n",
        "        super(RegressionModel, self).__init__()\n",
        "        self.fc1 = nn.Linear(input_size, 64)\n",
        "        self.fc2 = nn.Linear(64, 32)\n",
        "        self.fc3 = nn.Linear(32, 1)\n",
        "\n",
        "    def forward(self, x):\n",
        "        x = torch.relu(self.fc1(x))\n",
        "        x = torch.relu(self.fc2(x))\n",
        "        x = self.fc3(x)\n",
        "        return x\n",
        "\n",
        "# Initialize the model\n",
        "input_size = len(selected_features)\n",
        "model = RegressionModel(input_size)\n",
        "\n",
        "# Define the loss function and optimizer\n",
        "criterion = nn.MSELoss()  # Mean Squared Error\n",
        "optimizer = torch.optim.Adam(model.parameters(), lr=0.001)\n",
        "\n",
        "# Initialize an empty list to collect the training losses\n",
        "train_losses = []\n",
        "\n",
        "# Training loop\n",
        "num_epochs = 100\n",
        "\n",
        "for epoch in range(num_epochs):\n",
        "    epoch_loss = 0.0  # Initialize the loss for this epoch\n",
        "    for inputs, targets in train_loader:\n",
        "        optimizer.zero_grad()  # Zero the gradients\n",
        "        outputs = model(inputs)  # Forward pass\n",
        "        loss = criterion(outputs, targets)  # Calculate loss\n",
        "        loss.backward()  # Backpropagation\n",
        "        optimizer.step()  # Update weights\n",
        "        epoch_loss += loss.item()  # Add the batch loss to the epoch loss\n",
        "\n",
        "    # Calculate and store the average training loss for this epoch\n",
        "    avg_epoch_loss = epoch_loss / len(train_loader)\n",
        "    train_losses.append(avg_epoch_loss)  # Append the loss to the list\n",
        "\n",
        "    print(f'Epoch [{epoch + 1}/{num_epochs}], Loss: {avg_epoch_loss:.4f}')\n",
        "\n",
        "# Plot the epoch vs. loss curve\n",
        "plt.figure(figsize=(10, 6))\n",
        "plt.plot(range(1, num_epochs + 1), train_losses, label='Training Loss', marker='o', linestyle='-')\n",
        "plt.xlabel('Epoch')\n",
        "plt.ylabel('Loss')\n",
        "plt.title('Epoch vs. Loss Curve')\n",
        "plt.legend()\n",
        "plt.grid(True)\n",
        "plt.show()\n",
        "\n",
        "\n",
        "\n"
      ],
      "metadata": {
        "colab": {
          "base_uri": "https://localhost:8080/",
          "height": 1000
        },
        "id": "fQ4mEWA9FmMW",
        "outputId": "a52a456d-3fa3-4793-f085-7b69cfd0e60f"
      },
      "execution_count": null,
      "outputs": [
        {
          "output_type": "stream",
          "name": "stdout",
          "text": [
            "Epoch [1/100], Loss: 771.1680\n",
            "Epoch [2/100], Loss: 0.7671\n",
            "Epoch [3/100], Loss: 0.1056\n",
            "Epoch [4/100], Loss: 0.0114\n",
            "Epoch [5/100], Loss: 0.0089\n",
            "Epoch [6/100], Loss: 0.0093\n",
            "Epoch [7/100], Loss: 0.0106\n",
            "Epoch [8/100], Loss: 0.0083\n",
            "Epoch [9/100], Loss: 0.0108\n",
            "Epoch [10/100], Loss: 0.0207\n",
            "Epoch [11/100], Loss: 0.2404\n",
            "Epoch [12/100], Loss: 2.5637\n",
            "Epoch [13/100], Loss: 3.4576\n",
            "Epoch [14/100], Loss: 1.2383\n",
            "Epoch [15/100], Loss: 4.5337\n",
            "Epoch [16/100], Loss: 1.2143\n",
            "Epoch [17/100], Loss: 1.4240\n",
            "Epoch [18/100], Loss: 6.7279\n",
            "Epoch [19/100], Loss: 0.0225\n",
            "Epoch [20/100], Loss: 2.0561\n",
            "Epoch [21/100], Loss: 2.1932\n",
            "Epoch [22/100], Loss: 0.1406\n",
            "Epoch [23/100], Loss: 2.1763\n",
            "Epoch [24/100], Loss: 0.7363\n",
            "Epoch [25/100], Loss: 3.8061\n",
            "Epoch [26/100], Loss: 0.0717\n",
            "Epoch [27/100], Loss: 0.7159\n",
            "Epoch [28/100], Loss: 1.5069\n",
            "Epoch [29/100], Loss: 3.5247\n",
            "Epoch [30/100], Loss: 0.0100\n",
            "Epoch [31/100], Loss: 0.2582\n",
            "Epoch [32/100], Loss: 0.9967\n",
            "Epoch [33/100], Loss: 0.3981\n",
            "Epoch [34/100], Loss: 1.2334\n",
            "Epoch [35/100], Loss: 0.3197\n",
            "Epoch [36/100], Loss: 0.8450\n",
            "Epoch [37/100], Loss: 0.9363\n",
            "Epoch [38/100], Loss: 0.2242\n",
            "Epoch [39/100], Loss: 0.4517\n",
            "Epoch [40/100], Loss: 0.4780\n",
            "Epoch [41/100], Loss: 0.7208\n",
            "Epoch [42/100], Loss: 0.1494\n",
            "Epoch [43/100], Loss: 1.0163\n",
            "Epoch [44/100], Loss: 0.2263\n",
            "Epoch [45/100], Loss: 0.1981\n",
            "Epoch [46/100], Loss: 0.3590\n",
            "Epoch [47/100], Loss: 0.9283\n",
            "Epoch [48/100], Loss: 0.0163\n",
            "Epoch [49/100], Loss: 0.2780\n",
            "Epoch [50/100], Loss: 0.3286\n",
            "Epoch [51/100], Loss: 0.2136\n",
            "Epoch [52/100], Loss: 0.5037\n",
            "Epoch [53/100], Loss: 0.0751\n",
            "Epoch [54/100], Loss: 0.6050\n",
            "Epoch [55/100], Loss: 0.0602\n",
            "Epoch [56/100], Loss: 0.4310\n",
            "Epoch [57/100], Loss: 0.0827\n",
            "Epoch [58/100], Loss: 0.1678\n",
            "Epoch [59/100], Loss: 0.3472\n",
            "Epoch [60/100], Loss: 0.0194\n",
            "Epoch [61/100], Loss: 0.3442\n",
            "Epoch [62/100], Loss: 0.0397\n",
            "Epoch [63/100], Loss: 0.3642\n",
            "Epoch [64/100], Loss: 0.0269\n",
            "Epoch [65/100], Loss: 0.1610\n",
            "Epoch [66/100], Loss: 0.1982\n",
            "Epoch [67/100], Loss: 0.1449\n",
            "Epoch [68/100], Loss: 0.1051\n",
            "Epoch [69/100], Loss: 0.6738\n",
            "Epoch [70/100], Loss: 0.0024\n",
            "Epoch [71/100], Loss: 0.0043\n",
            "Epoch [72/100], Loss: 0.0140\n",
            "Epoch [73/100], Loss: 0.2060\n",
            "Epoch [74/100], Loss: 0.0572\n",
            "Epoch [75/100], Loss: 0.0298\n",
            "Epoch [76/100], Loss: 0.1202\n",
            "Epoch [77/100], Loss: 0.0997\n",
            "Epoch [78/100], Loss: 0.0258\n",
            "Epoch [79/100], Loss: 0.1077\n",
            "Epoch [80/100], Loss: 0.0599\n",
            "Epoch [81/100], Loss: 0.0640\n",
            "Epoch [82/100], Loss: 0.0783\n",
            "Epoch [83/100], Loss: 0.0137\n",
            "Epoch [84/100], Loss: 0.1602\n",
            "Epoch [85/100], Loss: 0.0032\n",
            "Epoch [86/100], Loss: 0.0388\n",
            "Epoch [87/100], Loss: 0.0446\n",
            "Epoch [88/100], Loss: 0.0430\n",
            "Epoch [89/100], Loss: 0.0425\n",
            "Epoch [90/100], Loss: 0.0870\n",
            "Epoch [91/100], Loss: 0.0063\n",
            "Epoch [92/100], Loss: 0.1099\n",
            "Epoch [93/100], Loss: 0.0027\n",
            "Epoch [94/100], Loss: 0.0131\n",
            "Epoch [95/100], Loss: 0.0201\n",
            "Epoch [96/100], Loss: 0.0231\n",
            "Epoch [97/100], Loss: 0.0325\n",
            "Epoch [98/100], Loss: 0.0410\n",
            "Epoch [99/100], Loss: 0.0084\n",
            "Epoch [100/100], Loss: 0.0210\n"
          ]
        },
        {
          "output_type": "display_data",
          "data": {
            "text/plain": [
              "<Figure size 1000x600 with 1 Axes>"
            ],
            "image/png": "[encoded data removed]"
          },
          "metadata": {}
        }
      ]
    },
    {
      "cell_type": "code",
      "source": [
        "# Making predictions on new data\n",
        "# Load and preprocess the new data\n",
        "new_data = pd.read_csv('autocross_supra_2022.csv')  # Replace 'new_data.csv' with your file path\n",
        "new_data = new_data[selected_features]\n",
        "new_data_tensor = torch.tensor(new_data.values, dtype=torch.float32)\n",
        "\n",
        "# Make predictions\n",
        "model.eval()\n",
        "with torch.no_grad():\n",
        "    predictions = model(new_data_tensor)\n",
        "\n",
        "# Convert the predictions to a NumPy array\n",
        "predicted_values = predictions.numpy()\n",
        "\n",
        "print(predicted_values)"
      ],
      "metadata": {
        "colab": {
          "base_uri": "https://localhost:8080/"
        },
        "id": "c21ht9V3HmSK",
        "outputId": "e1250a11-53c7-4636-bca5-cac8e00a61a7"
      },
      "execution_count": null,
      "outputs": [
        {
          "output_type": "stream",
          "name": "stdout",
          "text": [
            "[[0.76545274]\n",
            " [0.8761874 ]\n",
            " [0.8744468 ]\n",
            " ...\n",
            " [1.0524204 ]\n",
            " [1.0524004 ]\n",
            " [1.0521457 ]]\n"
          ]
        },
        {
          "output_type": "stream",
          "name": "stderr",
          "text": [
            "<ipython-input-22-aa74b792373d>:4: FutureWarning: Passing a set as an indexer is deprecated and will raise in a future version. Use a list instead.\n",
            "  new_data = new_data[selected_features]\n"
          ]
        }
      ]
    },
    {
      "cell_type": "code",
      "source": [
        "# Create a DataFrame with a single column named 'Target Lambda'\n",
        "df = pd.DataFrame(predicted_values, columns=['Target Lambda'])\n",
        "\n",
        "# Save the DataFrame to a CSV file\n",
        "df.to_csv('output.csv', index=False)  # Replace 'output.csv' with your desired file name"
      ],
      "metadata": {
        "id": "4tuyp8-oJttk"
      },
      "execution_count": null,
      "outputs": []
    },
    {
      "cell_type": "markdown",
      "source": [
        "# Regularization"
      ],
      "metadata": {
        "id": "RG_Yy5pBOH_n"
      }
    },
    {
      "cell_type": "code",
      "source": [
        "class ImprovedRegressionModel(nn.Module):\n",
        "    def __init__(self, input_size, dropout_prob=0.5):\n",
        "        super(ImprovedRegressionModel, self).__init__()\n",
        "        self.fc1 = nn.Linear(input_size, 128)\n",
        "        self.fc2 = nn.Linear(128, 64)\n",
        "        self.fc3 = nn.Linear(64, 32)\n",
        "        self.fc4 = nn.Linear(32, 1)\n",
        "        self.dropout = nn.Dropout(p=dropout_prob)\n",
        "\n",
        "    def forward(self, x):\n",
        "        x = torch.relu(self.fc1(x))\n",
        "        x = self.dropout(x)\n",
        "        x = torch.relu(self.fc2(x))\n",
        "        x = self.dropout(x)\n",
        "        x = torch.relu(self.fc3(x))\n",
        "        x = self.dropout(x)\n",
        "        x = self.fc4(x)\n",
        "        return x\n"
      ],
      "metadata": {
        "id": "CRx742itKnpa"
      },
      "execution_count": null,
      "outputs": []
    },
    {
      "cell_type": "code",
      "source": [
        "# Initialize the model\n",
        "input_size = len(selected_features)\n",
        "model = ImprovedRegressionModel(input_size)\n",
        "\n",
        "# Define the loss function and optimizer\n",
        "criterion = nn.MSELoss()  # Mean Squared Error\n",
        "optimizer = torch.optim.Adam(model.parameters(), lr=0.001)\n",
        "\n",
        "# Initialize an empty list to collect the training losses\n",
        "train_losses = []\n",
        "\n",
        "# Training loop\n",
        "num_epochs = 100\n",
        "\n",
        "for epoch in range(num_epochs):\n",
        "    epoch_loss = 0.0  # Initialize the loss for this epoch\n",
        "    for inputs, targets in train_loader:\n",
        "        optimizer.zero_grad()  # Zero the gradients\n",
        "        outputs = model(inputs)  # Forward pass\n",
        "        loss = criterion(outputs, targets)  # Calculate loss\n",
        "        loss.backward()  # Backpropagation\n",
        "        optimizer.step()  # Update weights\n",
        "        epoch_loss += loss.item()  # Add the batch loss to the epoch loss\n",
        "\n",
        "    # Calculate and store the average training loss for this epoch\n",
        "    avg_epoch_loss = epoch_loss / len(train_loader)\n",
        "    train_losses.append(avg_epoch_loss)  # Append the loss to the list\n",
        "\n",
        "    print(f'Epoch [{epoch + 1}/{num_epochs}], Loss: {avg_epoch_loss:.4f}')\n",
        "\n",
        "# Plot the epoch vs. loss curve\n",
        "plt.figure(figsize=(10, 6))\n",
        "plt.plot(range(1, num_epochs + 1), train_losses, label='Training Loss', marker='o', linestyle='-')\n",
        "plt.xlabel('Epoch')\n",
        "plt.ylabel('Loss')\n",
        "plt.title('Epoch vs. Loss Curve')\n",
        "plt.legend()\n",
        "plt.grid(True)\n",
        "plt.show()"
      ],
      "metadata": {
        "colab": {
          "base_uri": "https://localhost:8080/",
          "height": 1000
        },
        "id": "GuxeM2tBNB51",
        "outputId": "7e657da4-2ffd-4ae9-9dd1-d47331f09b22"
      },
      "execution_count": null,
      "outputs": [
        {
          "output_type": "stream",
          "name": "stderr",
          "text": [
            "/usr/local/lib/python3.10/dist-packages/torch/nn/modules/loss.py:536: UserWarning: Using a target size (torch.Size([64])) that is different to the input size (torch.Size([64, 1])). This will likely lead to incorrect results due to broadcasting. Please ensure they have the same size.\n",
            "  return F.mse_loss(input, target, reduction=self.reduction)\n",
            "/usr/local/lib/python3.10/dist-packages/torch/nn/modules/loss.py:536: UserWarning: Using a target size (torch.Size([12])) that is different to the input size (torch.Size([12, 1])). This will likely lead to incorrect results due to broadcasting. Please ensure they have the same size.\n",
            "  return F.mse_loss(input, target, reduction=self.reduction)\n"
          ]
        },
        {
          "output_type": "stream",
          "name": "stdout",
          "text": [
            "Epoch [1/100], Loss: 554.9605\n",
            "Epoch [2/100], Loss: 9.8825\n",
            "Epoch [3/100], Loss: 3.0602\n",
            "Epoch [4/100], Loss: 1.6862\n",
            "Epoch [5/100], Loss: 1.2469\n",
            "Epoch [6/100], Loss: 0.7305\n",
            "Epoch [7/100], Loss: 0.4253\n",
            "Epoch [8/100], Loss: 0.4460\n",
            "Epoch [9/100], Loss: 0.2320\n",
            "Epoch [10/100], Loss: 0.2321\n",
            "Epoch [11/100], Loss: 0.2473\n",
            "Epoch [12/100], Loss: 0.1575\n",
            "Epoch [13/100], Loss: 0.0494\n",
            "Epoch [14/100], Loss: 0.0522\n",
            "Epoch [15/100], Loss: 0.0275\n",
            "Epoch [16/100], Loss: 0.0353\n",
            "Epoch [17/100], Loss: 0.0305\n",
            "Epoch [18/100], Loss: 0.0878\n",
            "Epoch [19/100], Loss: 0.0262\n",
            "Epoch [20/100], Loss: 0.0461\n",
            "Epoch [21/100], Loss: 0.0041\n",
            "Epoch [22/100], Loss: 0.0016\n",
            "Epoch [23/100], Loss: 0.0019\n",
            "Epoch [24/100], Loss: 0.0095\n",
            "Epoch [25/100], Loss: 0.0016\n",
            "Epoch [26/100], Loss: 0.0206\n",
            "Epoch [27/100], Loss: 0.0063\n",
            "Epoch [28/100], Loss: 0.0132\n",
            "Epoch [29/100], Loss: 0.0188\n",
            "Epoch [30/100], Loss: 0.0044\n",
            "Epoch [31/100], Loss: 0.0037\n",
            "Epoch [32/100], Loss: 0.0008\n",
            "Epoch [33/100], Loss: 0.0031\n",
            "Epoch [34/100], Loss: 0.0021\n",
            "Epoch [35/100], Loss: 0.0029\n",
            "Epoch [36/100], Loss: 0.0008\n",
            "Epoch [37/100], Loss: 0.0012\n",
            "Epoch [38/100], Loss: 0.0018\n",
            "Epoch [39/100], Loss: 0.0038\n",
            "Epoch [40/100], Loss: 0.0050\n",
            "Epoch [41/100], Loss: 0.0019\n",
            "Epoch [42/100], Loss: 0.0010\n",
            "Epoch [43/100], Loss: 0.0007\n",
            "Epoch [44/100], Loss: 0.0006\n",
            "Epoch [45/100], Loss: 0.0022\n",
            "Epoch [46/100], Loss: 0.0008\n",
            "Epoch [47/100], Loss: 0.0010\n",
            "Epoch [48/100], Loss: 0.0007\n",
            "Epoch [49/100], Loss: 0.0007\n",
            "Epoch [50/100], Loss: 0.0007\n",
            "Epoch [51/100], Loss: 0.0008\n",
            "Epoch [52/100], Loss: 0.0007\n",
            "Epoch [53/100], Loss: 0.0006\n",
            "Epoch [54/100], Loss: 0.0007\n",
            "Epoch [55/100], Loss: 0.0006\n",
            "Epoch [56/100], Loss: 0.0211\n",
            "Epoch [57/100], Loss: 0.0006\n",
            "Epoch [58/100], Loss: 0.0009\n",
            "Epoch [59/100], Loss: 0.0006\n",
            "Epoch [60/100], Loss: 0.0006\n",
            "Epoch [61/100], Loss: 0.0006\n",
            "Epoch [62/100], Loss: 0.0006\n",
            "Epoch [63/100], Loss: 0.0006\n",
            "Epoch [64/100], Loss: 0.0006\n",
            "Epoch [65/100], Loss: 0.0006\n",
            "Epoch [66/100], Loss: 0.0007\n",
            "Epoch [67/100], Loss: 0.0006\n",
            "Epoch [68/100], Loss: 0.0006\n",
            "Epoch [69/100], Loss: 0.0013\n",
            "Epoch [70/100], Loss: 0.0006\n",
            "Epoch [71/100], Loss: 0.0006\n",
            "Epoch [72/100], Loss: 0.0006\n",
            "Epoch [73/100], Loss: 0.0006\n",
            "Epoch [74/100], Loss: 0.0006\n",
            "Epoch [75/100], Loss: 0.0006\n",
            "Epoch [76/100], Loss: 0.0007\n",
            "Epoch [77/100], Loss: 0.0126\n",
            "Epoch [78/100], Loss: 0.0008\n",
            "Epoch [79/100], Loss: 0.0006\n",
            "Epoch [80/100], Loss: 0.0006\n",
            "Epoch [81/100], Loss: 0.0006\n",
            "Epoch [82/100], Loss: 0.0007\n",
            "Epoch [83/100], Loss: 0.0006\n",
            "Epoch [84/100], Loss: 0.0006\n",
            "Epoch [85/100], Loss: 0.0008\n",
            "Epoch [86/100], Loss: 0.0006\n",
            "Epoch [87/100], Loss: 0.0006\n",
            "Epoch [88/100], Loss: 0.0006\n",
            "Epoch [89/100], Loss: 0.0006\n",
            "Epoch [90/100], Loss: 0.0006\n",
            "Epoch [91/100], Loss: 0.0006\n",
            "Epoch [92/100], Loss: 0.0006\n",
            "Epoch [93/100], Loss: 0.0006\n",
            "Epoch [94/100], Loss: 0.0007\n",
            "Epoch [95/100], Loss: 0.0006\n",
            "Epoch [96/100], Loss: 0.0006\n",
            "Epoch [97/100], Loss: 0.0006\n",
            "Epoch [98/100], Loss: 0.0006\n",
            "Epoch [99/100], Loss: 0.0006\n",
            "Epoch [100/100], Loss: 0.0006\n"
          ]
        },
        {
          "output_type": "display_data",
          "data": {
            "text/plain": [
              "<Figure size 1000x600 with 1 Axes>"
            ],
            "image/png": "[encoded data removed]"
          },
          "metadata": {}
        }
      ]
    },
    {
      "cell_type": "code",
      "source": [
        "# Making predictions on new data\n",
        "# Load and preprocess the new data\n",
        "new_data = pd.read_csv('autocross_supra_2022.csv')  # Replace 'new_data.csv' with your file path\n",
        "new_data = new_data[selected_features]\n",
        "new_data_tensor = torch.tensor(new_data.values, dtype=torch.float32)\n",
        "\n",
        "# Make predictions\n",
        "model.eval()\n",
        "with torch.no_grad():\n",
        "    predictions = model(new_data_tensor)\n",
        "\n",
        "# Convert the predictions to a NumPy array\n",
        "predicted_values = predictions.numpy()\n",
        "\n",
        "print(predicted_values)"
      ],
      "metadata": {
        "colab": {
          "base_uri": "https://localhost:8080/"
        },
        "id": "SFSn4XWTNQ_d",
        "outputId": "2aabfb66-39e4-49f9-9114-1c875475c9d2"
      },
      "execution_count": null,
      "outputs": [
        {
          "output_type": "stream",
          "name": "stdout",
          "text": [
            "[[0.9062567]\n",
            " [0.9062567]\n",
            " [0.9062567]\n",
            " ...\n",
            " [0.9062567]\n",
            " [0.9062567]\n",
            " [0.9062567]]\n"
          ]
        },
        {
          "output_type": "stream",
          "name": "stderr",
          "text": [
            "<ipython-input-31-aa74b792373d>:4: FutureWarning: Passing a set as an indexer is deprecated and will raise in a future version. Use a list instead.\n",
            "  new_data = new_data[selected_features]\n"
          ]
        }
      ]
    },
    {
      "cell_type": "code",
      "source": [
        "# Create a DataFrame with a single column named 'Target Lambda'\n",
        "df = pd.DataFrame(predicted_values, columns=['Target Lambda'])\n",
        "\n",
        "# Save the DataFrame to a CSV file\n",
        "df.to_csv('output_regularization.csv', index=False)  # Replace 'output.csv' with your desired file name"
      ],
      "metadata": {
        "id": "1k8og9J3ODTB"
      },
      "execution_count": null,
      "outputs": []
    },
    {
      "cell_type": "code",
      "source": [
        "class ImprovedRegressionModel(nn.Module):\n",
        "    def __init__(self, input_size):\n",
        "        super(ImprovedRegressionModel, self).__init__()\n",
        "        self.fc1 = nn.Linear(input_size, 128)\n",
        "        self.bn1 = nn.BatchNorm1d(128)  # Batch Normalization\n",
        "        self.fc2 = nn.Linear(128, 64)\n",
        "        self.bn2 = nn.BatchNorm1d(64)   # Batch Normalization\n",
        "        self.fc3 = nn.Linear(64, 32)\n",
        "        self.bn3 = nn.BatchNorm1d(32)   # Batch Normalization\n",
        "        self.fc4 = nn.Linear(32, 1)\n",
        "\n",
        "    def forward(self, x):\n",
        "        x = torch.relu(self.fc1(x))\n",
        "        x = self.bn1(x)\n",
        "        x = torch.relu(self.fc2(x))\n",
        "        x = self.bn2(x)\n",
        "        x = torch.relu(self.fc3(x))\n",
        "        x = self.bn3(x)\n",
        "        x = self.fc4(x)\n",
        "        return x\n"
      ],
      "metadata": {
        "id": "ltEbb0ZKOVJM"
      },
      "execution_count": null,
      "outputs": []
    },
    {
      "cell_type": "code",
      "source": [
        "# Initialize the model\n",
        "input_size = len(selected_features)\n",
        "model = ImprovedRegressionModel(input_size)\n",
        "\n",
        "# Define the loss function and optimizer\n",
        "criterion = nn.MSELoss()  # Mean Squared Error\n",
        "optimizer = torch.optim.Adam(model.parameters(), lr=0.001)\n",
        "\n",
        "# Initialize an empty list to collect the training losses\n",
        "train_losses = []\n",
        "\n",
        "# Training loop\n",
        "num_epochs = 100\n",
        "\n",
        "for epoch in range(num_epochs):\n",
        "    epoch_loss = 0.0  # Initialize the loss for this epoch\n",
        "    for inputs, targets in train_loader:\n",
        "        optimizer.zero_grad()  # Zero the gradients\n",
        "        outputs = model(inputs)  # Forward pass\n",
        "        loss = criterion(outputs, targets)  # Calculate loss\n",
        "        loss.backward()  # Backpropagation\n",
        "        optimizer.step()  # Update weights\n",
        "        epoch_loss += loss.item()  # Add the batch loss to the epoch loss\n",
        "\n",
        "    # Calculate and store the average training loss for this epoch\n",
        "    avg_epoch_loss = epoch_loss / len(train_loader)\n",
        "    train_losses.append(avg_epoch_loss)  # Append the loss to the list\n",
        "\n",
        "    print(f'Epoch [{epoch + 1}/{num_epochs}], Loss: {avg_epoch_loss:.4f}')\n",
        "\n",
        "# Plot the epoch vs. loss curve\n",
        "plt.figure(figsize=(10, 6))\n",
        "plt.plot(range(1, num_epochs + 1), train_losses, label='Training Loss', marker='o', linestyle='-')\n",
        "plt.xlabel('Epoch')\n",
        "plt.ylabel('Loss')\n",
        "plt.title('Epoch vs. Loss Curve')\n",
        "plt.legend()\n",
        "plt.grid(True)\n",
        "plt.show()"
      ],
      "metadata": {
        "colab": {
          "base_uri": "https://localhost:8080/",
          "height": 1000
        },
        "id": "WumGVzp3ThLa",
        "outputId": "06ac82b3-15ae-4b01-bc15-0eb38ca98f56"
      },
      "execution_count": null,
      "outputs": [
        {
          "output_type": "stream",
          "name": "stderr",
          "text": [
            "/usr/local/lib/python3.10/dist-packages/torch/nn/modules/loss.py:536: UserWarning: Using a target size (torch.Size([64])) that is different to the input size (torch.Size([64, 1])). This will likely lead to incorrect results due to broadcasting. Please ensure they have the same size.\n",
            "  return F.mse_loss(input, target, reduction=self.reduction)\n",
            "/usr/local/lib/python3.10/dist-packages/torch/nn/modules/loss.py:536: UserWarning: Using a target size (torch.Size([12])) that is different to the input size (torch.Size([12, 1])). This will likely lead to incorrect results due to broadcasting. Please ensure they have the same size.\n",
            "  return F.mse_loss(input, target, reduction=self.reduction)\n"
          ]
        },
        {
          "output_type": "stream",
          "name": "stdout",
          "text": [
            "Epoch [1/100], Loss: 0.1774\n",
            "Epoch [2/100], Loss: 0.0013\n",
            "Epoch [3/100], Loss: 0.0008\n",
            "Epoch [4/100], Loss: 0.0016\n",
            "Epoch [5/100], Loss: 0.0021\n",
            "Epoch [6/100], Loss: 0.0007\n",
            "Epoch [7/100], Loss: 0.0008\n",
            "Epoch [8/100], Loss: 0.0007\n",
            "Epoch [9/100], Loss: 0.0010\n",
            "Epoch [10/100], Loss: 0.0009\n",
            "Epoch [11/100], Loss: 0.0007\n",
            "Epoch [12/100], Loss: 0.0009\n",
            "Epoch [13/100], Loss: 0.0007\n",
            "Epoch [14/100], Loss: 0.0007\n",
            "Epoch [15/100], Loss: 0.0007\n",
            "Epoch [16/100], Loss: 0.0008\n",
            "Epoch [17/100], Loss: 0.0007\n",
            "Epoch [18/100], Loss: 0.0007\n",
            "Epoch [19/100], Loss: 0.0007\n",
            "Epoch [20/100], Loss: 0.0008\n",
            "Epoch [21/100], Loss: 0.0007\n",
            "Epoch [22/100], Loss: 0.0007\n",
            "Epoch [23/100], Loss: 0.0007\n",
            "Epoch [24/100], Loss: 0.0007\n",
            "Epoch [25/100], Loss: 0.0007\n",
            "Epoch [26/100], Loss: 0.0007\n",
            "Epoch [27/100], Loss: 0.0007\n",
            "Epoch [28/100], Loss: 0.0007\n",
            "Epoch [29/100], Loss: 0.0007\n",
            "Epoch [30/100], Loss: 0.0007\n",
            "Epoch [31/100], Loss: 0.0007\n",
            "Epoch [32/100], Loss: 0.0007\n",
            "Epoch [33/100], Loss: 0.0007\n",
            "Epoch [34/100], Loss: 0.0007\n",
            "Epoch [35/100], Loss: 0.0007\n",
            "Epoch [36/100], Loss: 0.0007\n",
            "Epoch [37/100], Loss: 0.0007\n",
            "Epoch [38/100], Loss: 0.0007\n",
            "Epoch [39/100], Loss: 0.0007\n",
            "Epoch [40/100], Loss: 0.0007\n",
            "Epoch [41/100], Loss: 0.0007\n",
            "Epoch [42/100], Loss: 0.0007\n",
            "Epoch [43/100], Loss: 0.0007\n",
            "Epoch [44/100], Loss: 0.0007\n",
            "Epoch [45/100], Loss: 0.0007\n",
            "Epoch [46/100], Loss: 0.0007\n",
            "Epoch [47/100], Loss: 0.0007\n",
            "Epoch [48/100], Loss: 0.0007\n",
            "Epoch [49/100], Loss: 0.0007\n",
            "Epoch [50/100], Loss: 0.0007\n",
            "Epoch [51/100], Loss: 0.0007\n",
            "Epoch [52/100], Loss: 0.0007\n",
            "Epoch [53/100], Loss: 0.0007\n",
            "Epoch [54/100], Loss: 0.0007\n",
            "Epoch [55/100], Loss: 0.0007\n",
            "Epoch [56/100], Loss: 0.0007\n",
            "Epoch [57/100], Loss: 0.0007\n",
            "Epoch [58/100], Loss: 0.0007\n",
            "Epoch [59/100], Loss: 0.0007\n",
            "Epoch [60/100], Loss: 0.0007\n",
            "Epoch [61/100], Loss: 0.0007\n",
            "Epoch [62/100], Loss: 0.0007\n",
            "Epoch [63/100], Loss: 0.0007\n",
            "Epoch [64/100], Loss: 0.0007\n",
            "Epoch [65/100], Loss: 0.0007\n",
            "Epoch [66/100], Loss: 0.0007\n",
            "Epoch [67/100], Loss: 0.0007\n",
            "Epoch [68/100], Loss: 0.0007\n",
            "Epoch [69/100], Loss: 0.0007\n",
            "Epoch [70/100], Loss: 0.0007\n",
            "Epoch [71/100], Loss: 0.0007\n",
            "Epoch [72/100], Loss: 0.0007\n",
            "Epoch [73/100], Loss: 0.0007\n",
            "Epoch [74/100], Loss: 0.0007\n",
            "Epoch [75/100], Loss: 0.0007\n",
            "Epoch [76/100], Loss: 0.0007\n",
            "Epoch [77/100], Loss: 0.0007\n",
            "Epoch [78/100], Loss: 0.0007\n",
            "Epoch [79/100], Loss: 0.0007\n",
            "Epoch [80/100], Loss: 0.0007\n",
            "Epoch [81/100], Loss: 0.0007\n",
            "Epoch [82/100], Loss: 0.0007\n",
            "Epoch [83/100], Loss: 0.0007\n",
            "Epoch [84/100], Loss: 0.0007\n",
            "Epoch [85/100], Loss: 0.0007\n",
            "Epoch [86/100], Loss: 0.0007\n",
            "Epoch [87/100], Loss: 0.0007\n",
            "Epoch [88/100], Loss: 0.0007\n",
            "Epoch [89/100], Loss: 0.0007\n",
            "Epoch [90/100], Loss: 0.0007\n",
            "Epoch [91/100], Loss: 0.0007\n",
            "Epoch [92/100], Loss: 0.0007\n",
            "Epoch [93/100], Loss: 0.0007\n",
            "Epoch [94/100], Loss: 0.0007\n",
            "Epoch [95/100], Loss: 0.0007\n",
            "Epoch [96/100], Loss: 0.0007\n",
            "Epoch [97/100], Loss: 0.0007\n",
            "Epoch [98/100], Loss: 0.0007\n",
            "Epoch [99/100], Loss: 0.0007\n",
            "Epoch [100/100], Loss: 0.0007\n"
          ]
        },
        {
          "output_type": "display_data",
          "data": {
            "text/plain": [
              "<Figure size 1000x600 with 1 Axes>"
            ],
            "image/png": "[encoded data removed]"
          },
          "metadata": {}
        }
      ]
    },
    {
      "cell_type": "code",
      "source": [
        "# Making predictions on new data\n",
        "# Load and preprocess the new data\n",
        "new_data = pd.read_csv('autocross_supra_2022.csv')  # Replace 'new_data.csv' with your file path\n",
        "new_data = new_data[selected_features]\n",
        "new_data_tensor = torch.tensor(new_data.values, dtype=torch.float32)\n",
        "\n",
        "# Make predictions\n",
        "model.eval()\n",
        "with torch.no_grad():\n",
        "    predictions = model(new_data_tensor)\n",
        "\n",
        "# Convert the predictions to a NumPy array\n",
        "predicted_values = predictions.numpy()\n",
        "\n",
        "print(predicted_values)"
      ],
      "metadata": {
        "colab": {
          "base_uri": "https://localhost:8080/"
        },
        "id": "S-v2X9YCTlCR",
        "outputId": "5501146e-0a22-483d-c642-12451b9b9074"
      },
      "execution_count": null,
      "outputs": [
        {
          "output_type": "stream",
          "name": "stdout",
          "text": [
            "[[0.9058681 ]\n",
            " [0.68669826]\n",
            " [0.6858843 ]\n",
            " ...\n",
            " [0.8990988 ]\n",
            " [0.89912415]\n",
            " [0.89912236]]\n"
          ]
        },
        {
          "output_type": "stream",
          "name": "stderr",
          "text": [
            "<ipython-input-35-aa74b792373d>:4: FutureWarning: Passing a set as an indexer is deprecated and will raise in a future version. Use a list instead.\n",
            "  new_data = new_data[selected_features]\n"
          ]
        }
      ]
    },
    {
      "cell_type": "code",
      "source": [
        "# Create a DataFrame with a single column named 'Target Lambda'\n",
        "df = pd.DataFrame(predicted_values, columns=['Target Lambda'])\n",
        "\n",
        "# Save the DataFrame to a CSV file\n",
        "df.to_csv('output_batch_norm.csv', index=False)  # Replace 'output.csv' with your desired file name"
      ],
      "metadata": {
        "id": "nyihOCK3TtZ1"
      },
      "execution_count": null,
      "outputs": []
    },
    {
      "cell_type": "code",
      "source": [
        "import torch.nn.functional as F  # Import the functional module for loss functions\n",
        "\n",
        "# Define a custom loss function based on Mean Absolute Error (MAE)\n",
        "def mean_absolute_error(output, target):\n",
        "    return torch.mean(torch.abs(output - target))\n",
        "\n",
        "# Define the neural network model\n",
        "class ImprovedRegressionModel(nn.Module):\n",
        "    def __init__(self, input_size):\n",
        "        super(ImprovedRegressionModel, self).__init__()\n",
        "        self.fc1 = nn.Linear(input_size, 128)\n",
        "        self.fc2 = nn.Linear(128, 64)\n",
        "        self.fc3 = nn.Linear(64, 32)\n",
        "        self.fc4 = nn.Linear(32, 1)\n",
        "\n",
        "    def forward(self, x):\n",
        "        x = torch.relu(self.fc1(x))\n",
        "        x = torch.relu(self.fc2(x))\n",
        "        x = torch.relu(self.fc3(x))\n",
        "        x = self.fc4(x)\n",
        "        return x\n",
        "\n",
        "train_losses = []\n",
        "\n",
        "\n",
        "# Initialize the model\n",
        "input_size = len(selected_features)\n",
        "model = ImprovedRegressionModel(input_size)\n",
        "\n",
        "# Define the loss function as MAE\n",
        "criterion = mean_absolute_error  # Use MAE as the loss function\n",
        "\n",
        "# Define the optimizer\n",
        "optimizer = torch.optim.Adam(model.parameters(), lr=0.001)\n",
        "\n",
        "# Training loop\n",
        "num_epochs = 100\n",
        "\n",
        "for epoch in range(num_epochs):\n",
        "    epoch_loss = 0.0  # Initialize the loss for this epoch\n",
        "    for inputs, targets in train_loader:\n",
        "        optimizer.zero_grad()  # Zero the gradients\n",
        "        outputs = model(inputs)  # Forward pass\n",
        "        loss = criterion(outputs, targets)  # Calculate loss\n",
        "        loss.backward()  # Backpropagation\n",
        "        optimizer.step()  # Update weights\n",
        "        epoch_loss += loss.item()  # Add the batch loss to the epoch loss\n",
        "\n",
        "    # Calculate and store the average training loss for this epoch\n",
        "    avg_epoch_loss = epoch_loss / len(train_loader)\n",
        "    train_losses.append(avg_epoch_loss)  # Append the loss to the list\n",
        "\n",
        "    print(f'Epoch [{epoch + 1}/{num_epochs}], Loss: {avg_epoch_loss:.4f}')\n",
        "\n"
      ],
      "metadata": {
        "colab": {
          "base_uri": "https://localhost:8080/"
        },
        "id": "SC1_JbBPTwr4",
        "outputId": "fd8f04e8-a921-4c6d-b025-00d29fe3ad67"
      },
      "execution_count": null,
      "outputs": [
        {
          "output_type": "stream",
          "name": "stdout",
          "text": [
            "Epoch [1/100], Loss: 5.1149\n",
            "Epoch [2/100], Loss: 1.2793\n",
            "Epoch [3/100], Loss: 0.5113\n",
            "Epoch [4/100], Loss: 0.2914\n",
            "Epoch [5/100], Loss: 0.2422\n",
            "Epoch [6/100], Loss: 0.1609\n",
            "Epoch [7/100], Loss: 0.1145\n",
            "Epoch [8/100], Loss: 0.0880\n",
            "Epoch [9/100], Loss: 0.0673\n",
            "Epoch [10/100], Loss: 0.0530\n",
            "Epoch [11/100], Loss: 0.0479\n",
            "Epoch [12/100], Loss: 0.0400\n",
            "Epoch [13/100], Loss: 0.0361\n",
            "Epoch [14/100], Loss: 0.0304\n",
            "Epoch [15/100], Loss: 0.0284\n",
            "Epoch [16/100], Loss: 0.0292\n",
            "Epoch [17/100], Loss: 0.0259\n",
            "Epoch [18/100], Loss: 0.0269\n",
            "Epoch [19/100], Loss: 0.0309\n",
            "Epoch [20/100], Loss: 0.0263\n",
            "Epoch [21/100], Loss: 0.0535\n",
            "Epoch [22/100], Loss: 0.0214\n",
            "Epoch [23/100], Loss: 0.0215\n",
            "Epoch [24/100], Loss: 0.0215\n",
            "Epoch [25/100], Loss: 0.0217\n",
            "Epoch [26/100], Loss: 0.0227\n",
            "Epoch [27/100], Loss: 0.0318\n",
            "Epoch [28/100], Loss: 0.0214\n",
            "Epoch [29/100], Loss: 0.0214\n",
            "Epoch [30/100], Loss: 0.0215\n",
            "Epoch [31/100], Loss: 0.0215\n",
            "Epoch [32/100], Loss: 0.0215\n",
            "Epoch [33/100], Loss: 0.0214\n",
            "Epoch [34/100], Loss: 0.0215\n",
            "Epoch [35/100], Loss: 0.0215\n",
            "Epoch [36/100], Loss: 0.0215\n",
            "Epoch [37/100], Loss: 0.0215\n",
            "Epoch [38/100], Loss: 0.0215\n",
            "Epoch [39/100], Loss: 0.0216\n",
            "Epoch [40/100], Loss: 0.0215\n",
            "Epoch [41/100], Loss: 0.0215\n",
            "Epoch [42/100], Loss: 0.0215\n",
            "Epoch [43/100], Loss: 0.0215\n",
            "Epoch [44/100], Loss: 0.0216\n",
            "Epoch [45/100], Loss: 0.0216\n",
            "Epoch [46/100], Loss: 0.0216\n",
            "Epoch [47/100], Loss: 0.0216\n",
            "Epoch [48/100], Loss: 0.0215\n",
            "Epoch [49/100], Loss: 0.0231\n",
            "Epoch [50/100], Loss: 0.0215\n",
            "Epoch [51/100], Loss: 0.0216\n",
            "Epoch [52/100], Loss: 0.0216\n",
            "Epoch [53/100], Loss: 0.0215\n",
            "Epoch [54/100], Loss: 0.0215\n",
            "Epoch [55/100], Loss: 0.0215\n",
            "Epoch [56/100], Loss: 0.0216\n",
            "Epoch [57/100], Loss: 0.0216\n",
            "Epoch [58/100], Loss: 0.0215\n",
            "Epoch [59/100], Loss: 0.0215\n",
            "Epoch [60/100], Loss: 0.0215\n",
            "Epoch [61/100], Loss: 0.0215\n",
            "Epoch [62/100], Loss: 0.0215\n",
            "Epoch [63/100], Loss: 0.0216\n",
            "Epoch [64/100], Loss: 0.0215\n",
            "Epoch [65/100], Loss: 0.0216\n",
            "Epoch [66/100], Loss: 0.0216\n",
            "Epoch [67/100], Loss: 0.0215\n",
            "Epoch [68/100], Loss: 0.0215\n",
            "Epoch [69/100], Loss: 0.0215\n",
            "Epoch [70/100], Loss: 0.0215\n",
            "Epoch [71/100], Loss: 0.0215\n",
            "Epoch [72/100], Loss: 0.0215\n",
            "Epoch [73/100], Loss: 0.0215\n",
            "Epoch [74/100], Loss: 0.0215\n",
            "Epoch [75/100], Loss: 0.0215\n",
            "Epoch [76/100], Loss: 0.0215\n",
            "Epoch [77/100], Loss: 0.0215\n",
            "Epoch [78/100], Loss: 0.0216\n",
            "Epoch [79/100], Loss: 0.0216\n",
            "Epoch [80/100], Loss: 0.0215\n",
            "Epoch [81/100], Loss: 0.0215\n",
            "Epoch [82/100], Loss: 0.0215\n",
            "Epoch [83/100], Loss: 0.0216\n",
            "Epoch [84/100], Loss: 0.0216\n",
            "Epoch [85/100], Loss: 0.0215\n",
            "Epoch [86/100], Loss: 0.0215\n",
            "Epoch [87/100], Loss: 0.0215\n",
            "Epoch [88/100], Loss: 0.0215\n",
            "Epoch [89/100], Loss: 0.0215\n",
            "Epoch [90/100], Loss: 0.0216\n",
            "Epoch [91/100], Loss: 0.0216\n",
            "Epoch [92/100], Loss: 0.0215\n",
            "Epoch [93/100], Loss: 0.0215\n",
            "Epoch [94/100], Loss: 0.0215\n",
            "Epoch [95/100], Loss: 0.0216\n",
            "Epoch [96/100], Loss: 0.0216\n",
            "Epoch [97/100], Loss: 0.0215\n",
            "Epoch [98/100], Loss: 0.0215\n",
            "Epoch [99/100], Loss: 0.0216\n",
            "Epoch [100/100], Loss: 0.0216\n"
          ]
        }
      ]
    },
    {
      "cell_type": "code",
      "source": [
        "# Plot the loss vs. number of epochs curve\n",
        "plt.figure(figsize=(10, 6))\n",
        "plt.plot(range(1, num_epochs + 1), train_losses, label='Training Loss', marker='o', linestyle='-')\n",
        "plt.xlabel('Epoch')\n",
        "plt.ylabel('Loss')\n",
        "plt.title('Loss vs. Number of Epochs')\n",
        "plt.legend()\n",
        "plt.grid(True)\n",
        "plt.show()\n"
      ],
      "metadata": {
        "colab": {
          "base_uri": "https://localhost:8080/",
          "height": 564
        },
        "id": "2ujEKMN_WYtX",
        "outputId": "1fc4926b-8f7e-44c0-b5b4-f65885da4133"
      },
      "execution_count": null,
      "outputs": [
        {
          "output_type": "display_data",
          "data": {
            "text/plain": [
              "<Figure size 1000x600 with 1 Axes>"
            ],
            "image/png": "[encoded data removed]"
          },
          "metadata": {}
        }
      ]
    },
    {
      "cell_type": "code",
      "source": [
        "# Making predictions on new data\n",
        "# Load and preprocess the new data\n",
        "new_data = pd.read_csv('autocross_supra_2022.csv')  # Replace 'new_data.csv' with your file path\n",
        "new_data = new_data[selected_features]\n",
        "new_data_tensor = torch.tensor(new_data.values, dtype=torch.float32)\n",
        "\n",
        "# Make predictions\n",
        "model.eval()\n",
        "with torch.no_grad():\n",
        "    predictions = model(new_data_tensor)\n",
        "\n",
        "# Convert the predictions to a NumPy array\n",
        "predicted_values = predictions.numpy()\n",
        "\n",
        "print(predicted_values)"
      ],
      "metadata": {
        "colab": {
          "base_uri": "https://localhost:8080/"
        },
        "id": "L0UH99c9Wcqv",
        "outputId": "91ec61aa-d5a4-42ea-ba5d-c7008e112da8"
      },
      "execution_count": null,
      "outputs": [
        {
          "output_type": "stream",
          "name": "stdout",
          "text": [
            "[[0.9099436]\n",
            " [0.9099436]\n",
            " [0.9099436]\n",
            " ...\n",
            " [0.9099436]\n",
            " [0.9099436]\n",
            " [0.9099436]]\n"
          ]
        },
        {
          "output_type": "stream",
          "name": "stderr",
          "text": [
            "<ipython-input-39-aa74b792373d>:4: FutureWarning: Passing a set as an indexer is deprecated and will raise in a future version. Use a list instead.\n",
            "  new_data = new_data[selected_features]\n"
          ]
        }
      ]
    },
    {
      "cell_type": "code",
      "source": [
        "# Create a DataFrame with a single column named 'Target Lambda'\n",
        "df = pd.DataFrame(predicted_values, columns=['Target Lambda'])\n",
        "\n",
        "# Save the DataFrame to a CSV file\n",
        "df.to_csv('output_modifiedMSE.csv', index=False)  # Replace 'output.csv' with your desired file name"
      ],
      "metadata": {
        "id": "eZ12QOI3WisL"
      },
      "execution_count": null,
      "outputs": []
    },
    {
      "cell_type": "markdown",
      "source": [
        "# Ignition angle prediction"
      ],
      "metadata": {
        "id": "QTSUG7OXY1ZQ"
      }
    },
    {
      "cell_type": "code",
      "source": [
        "import pandas as pd\n",
        "\n",
        "# Load your dataset from a CSV file (replace 'your_dataset.csv' with the actual file path)\n",
        "data = pd.read_csv('FB_auto_testing.csv')\n",
        "\n",
        "# Drop rows after row 32495 (inclusive)\n",
        "data.drop(range(32496, len(data)), inplace=True)\n",
        "\n",
        "# Display the first few rows of the dataset to get an overview\n",
        "print(data.head())\n",
        "\n",
        "# Check for missing values and handle them if necessary\n",
        "missing_values = data.isnull().sum()\n",
        "print(\"Missing Values:\\n\", missing_values)\n",
        "\n",
        "# If there are missing values, you can choose to drop or fill them\n",
        "# For example, you can fill missing numerical values with the mean\n",
        "data.fillna(data.mean(), inplace=True)\n",
        "\n",
        "\n",
        "\n",
        "# Separate the target variable (e.g., 'Target Lambda') from the predictors\n",
        "X = data.drop(columns=['Ignition Angle (DBTDC)'])\n",
        "y = data['Ignition Angle (DBTDC)']\n",
        "\n",
        "# Now, you have X (predictor variables) and y (target variable) ready for model training"
      ],
      "metadata": {
        "colab": {
          "base_uri": "https://localhost:8080/"
        },
        "id": "KMf5PFeoWl1A",
        "outputId": "f4b4379e-01cb-497a-eaf8-12165353514f"
      },
      "execution_count": null,
      "outputs": [
        {
          "output_type": "stream",
          "name": "stdout",
          "text": [
            "  Time (sec)  RPM Air Temp (C) Coolant Temp (C) TPS (%) MAP (kPa)  \\\n",
            "0          0  329           45               89       1    101.77   \n",
            "1       0.02  329           45               89     1.1    102.46   \n",
            "2       0.04  329           45               89     1.6    103.01   \n",
            "3       0.06  329           45               89     2.1    103.56   \n",
            "4       0.08  329           45               89     2.4    112.11   \n",
            "\n",
            "  Fuel Open Time (ms) Accel Compensation - Fuel (%)  \\\n",
            "0                4.91                           100   \n",
            "1                4.91                           100   \n",
            "2                4.91                           100   \n",
            "3                4.91                           100   \n",
            "4                4.91                           100   \n",
            "\n",
            "  Starting Compensation - Fuel (%)  Coolant Temp Compensation - Fuel (%)  \\\n",
            "0                            110.6                                 108.1   \n",
            "1                            110.6                                 108.1   \n",
            "2                            110.6                                 108.1   \n",
            "3                            110.6                                 108.1   \n",
            "4                            110.6                                 108.1   \n",
            "\n",
            "   Map Compensation - Fuel (%)  Ignition Angle (DBTDC)  \\\n",
            "0                        100.1                    10.0   \n",
            "1                        100.1                    10.0   \n",
            "2                        100.1                    10.0   \n",
            "3                        100.1                    10.0   \n",
            "4                        100.1                    10.0   \n",
            "\n",
            "   Coolant Temp Compensation - Ignition (deg)  Measured Lambda #1  \\\n",
            "0                                         0.0                 1.2   \n",
            "1                                         0.0                 1.2   \n",
            "2                                         0.0                 1.2   \n",
            "3                                         0.0                 1.2   \n",
            "4                                         0.0                 1.2   \n",
            "\n",
            "   Target Lambda  Accel Base Comp (%)  \n",
            "0           0.95                123.5  \n",
            "1           0.95                123.5  \n",
            "2           0.95                123.5  \n",
            "3           0.95                123.5  \n",
            "4           0.95                123.5  \n",
            "Missing Values:\n",
            " Time (sec)                                    0\n",
            "RPM                                           0\n",
            "Air Temp (C)                                  0\n",
            "Coolant Temp (C)                              0\n",
            "TPS (%)                                       0\n",
            "MAP (kPa)                                     0\n",
            "Fuel Open Time (ms)                           0\n",
            "Accel Compensation - Fuel (%)                 0\n",
            "Starting Compensation - Fuel (%)              0\n",
            "Coolant Temp Compensation - Fuel (%)          0\n",
            "Map Compensation - Fuel (%)                   0\n",
            "Ignition Angle (DBTDC)                        0\n",
            "Coolant Temp Compensation - Ignition (deg)    0\n",
            "Measured Lambda #1                            0\n",
            "Target Lambda                                 0\n",
            "Accel Base Comp (%)                           0\n",
            "dtype: int64\n"
          ]
        },
        {
          "output_type": "stream",
          "name": "stderr",
          "text": [
            "<ipython-input-41-9f6e2c5af592>:18: FutureWarning: The default value of numeric_only in DataFrame.mean is deprecated. In a future version, it will default to False. In addition, specifying 'numeric_only=None' is deprecated. Select only valid columns or specify the value of numeric_only to silence this warning.\n",
            "  data.fillna(data.mean(), inplace=True)\n"
          ]
        }
      ]
    },
    {
      "cell_type": "markdown",
      "source": [
        "# Linear Regression"
      ],
      "metadata": {
        "id": "SzNN_yU2ZJG3"
      }
    },
    {
      "cell_type": "code",
      "source": [
        "# Import necessary libraries\n",
        "from sklearn.model_selection import train_test_split\n",
        "from sklearn.linear_model import LinearRegression\n",
        "from sklearn.metrics import mean_squared_error, r2_score\n",
        "\n",
        "# Assuming you have loaded your data into X and y\n",
        "\n",
        "# Split the data into training and test sets\n",
        "X_train, X_test, y_train, y_test = train_test_split(X, y, test_size=0.2, random_state=42)\n",
        "\n",
        "# Create a Linear Regression model\n",
        "linear_model = LinearRegression()\n",
        "\n",
        "# Fit the model to the training data\n",
        "linear_model.fit(X_train, y_train)\n",
        "\n",
        "# Make predictions on the test data\n",
        "linear_predictions = linear_model.predict(X_test)\n",
        "\n",
        "# Evaluate the Linear Regression model\n",
        "linear_mse = mean_squared_error(y_test, linear_predictions)\n",
        "linear_r2 = r2_score(y_test, linear_predictions)\n",
        "\n",
        "# Print evaluation results\n",
        "print(\"Linear Regression Mean Squared Error:\", linear_mse)\n",
        "print(\"Linear Regression R-squared:\", linear_r2)\n"
      ],
      "metadata": {
        "colab": {
          "base_uri": "https://localhost:8080/"
        },
        "id": "6uFB8zkOZAH4",
        "outputId": "35054d34-a9ab-4ee9-8942-f9361aef2e0c"
      },
      "execution_count": null,
      "outputs": [
        {
          "output_type": "stream",
          "name": "stdout",
          "text": [
            "Linear Regression Mean Squared Error: 9.280352289237571\n",
            "Linear Regression R-squared: 0.7714035859429509\n"
          ]
        }
      ]
    },
    {
      "cell_type": "markdown",
      "source": [
        "# Decision Tree"
      ],
      "metadata": {
        "id": "AktA9_FdZPk3"
      }
    },
    {
      "cell_type": "code",
      "source": [
        "# Import necessary libraries\n",
        "from sklearn.tree import DecisionTreeRegressor\n",
        "\n",
        "# Create a Decision Tree Regression model\n",
        "decision_tree_model = DecisionTreeRegressor(random_state=42)\n",
        "\n",
        "# Fit the model to the training data\n",
        "decision_tree_model.fit(X_train, y_train)\n",
        "\n",
        "# Make predictions on the test data\n",
        "decision_tree_predictions = decision_tree_model.predict(X_test)\n",
        "\n",
        "# Evaluate the Decision Tree Regression model\n",
        "decision_tree_mse = mean_squared_error(y_test, decision_tree_predictions)\n",
        "decision_tree_r2 = r2_score(y_test, decision_tree_predictions)\n",
        "\n",
        "# Print evaluation results\n",
        "print(\"Decision Tree Mean Squared Error:\", decision_tree_mse)\n",
        "print(\"Decision Tree R-squared:\", decision_tree_r2)\n"
      ],
      "metadata": {
        "colab": {
          "base_uri": "https://localhost:8080/"
        },
        "id": "EIeOj3CfZTXu",
        "outputId": "faad4986-0108-46e5-a316-22024b3d14d9"
      },
      "execution_count": null,
      "outputs": [
        {
          "output_type": "stream",
          "name": "stdout",
          "text": [
            "Decision Tree Mean Squared Error: 3.1454030769230767\n",
            "Decision Tree R-squared: 0.9225214903767736\n"
          ]
        }
      ]
    },
    {
      "cell_type": "code",
      "source": [
        "from sklearn.tree import DecisionTreeRegressor\n",
        "from sklearn.model_selection import GridSearchCV\n",
        "\n",
        "# Create a Decision Tree Regression model\n",
        "decision_tree_model = DecisionTreeRegressor(random_state=42)\n",
        "\n",
        "# Define the hyperparameters and their possible values to search\n",
        "param_grid = {\n",
        "    'max_depth': [None, 10, 20, 30],          # Maximum depth of the tree\n",
        "    'min_samples_split': [2, 5, 10],         # Minimum number of samples required to split a node\n",
        "    'min_samples_leaf': [1, 2, 4],           # Minimum number of samples required at each leaf node\n",
        "    'max_features': ['auto', 'sqrt', 'log2']  # Number of features to consider when making a split\n",
        "}\n",
        "\n",
        "# Create the Grid Search object\n",
        "grid_search = GridSearchCV(decision_tree_model, param_grid, cv=5, scoring='neg_mean_squared_error', n_jobs=-1)\n",
        "\n",
        "# Fit the Grid Search to the training data\n",
        "grid_search.fit(X_train, y_train)\n",
        "\n",
        "# Get the best hyperparameters\n",
        "best_params = grid_search.best_params_\n",
        "\n",
        "# Create a new Decision Tree model with the best hyperparameters\n",
        "best_decision_tree_model = DecisionTreeRegressor(random_state=42, **best_params)\n",
        "\n",
        "# Fit the model to the training data with the best hyperparameters\n",
        "best_decision_tree_model.fit(X_train, y_train)\n",
        "\n",
        "# Make predictions on the test data using the tuned model\n",
        "tuned_decision_tree_predictions = best_decision_tree_model.predict(X_test)\n",
        "\n",
        "# Evaluate the tuned Decision Tree Regression model\n",
        "tuned_decision_tree_mse = mean_squared_error(y_test, tuned_decision_tree_predictions)\n",
        "tuned_decision_tree_r2 = r2_score(y_test, tuned_decision_tree_predictions)\n",
        "\n",
        "# Print the best hyperparameters and evaluation results\n",
        "print(\"Best Hyperparameters:\", best_params)\n",
        "print(\"Tuned Decision Tree Mean Squared Error:\", tuned_decision_tree_mse)\n",
        "print(\"Tuned Decision Tree R-squared:\", tuned_decision_tree_r2)\n"
      ],
      "metadata": {
        "colab": {
          "base_uri": "https://localhost:8080/"
        },
        "id": "une-pJ30Z_rY",
        "outputId": "3e8a6744-5e0d-48b6-930b-277fe3fb7e16"
      },
      "execution_count": null,
      "outputs": [
        {
          "output_type": "stream",
          "name": "stderr",
          "text": [
            "/usr/local/lib/python3.10/dist-packages/sklearn/tree/_classes.py:277: FutureWarning: `max_features='auto'` has been deprecated in 1.1 and will be removed in 1.3. To keep the past behaviour, explicitly set `max_features=1.0'`.\n",
            "  warnings.warn(\n",
            "/usr/local/lib/python3.10/dist-packages/sklearn/tree/_classes.py:277: FutureWarning: `max_features='auto'` has been deprecated in 1.1 and will be removed in 1.3. To keep the past behaviour, explicitly set `max_features=1.0'`.\n",
            "  warnings.warn(\n"
          ]
        },
        {
          "output_type": "stream",
          "name": "stdout",
          "text": [
            "Best Hyperparameters: {'max_depth': 30, 'max_features': 'auto', 'min_samples_leaf': 4, 'min_samples_split': 10}\n",
            "Tuned Decision Tree Mean Squared Error: 2.8214330470051556\n",
            "Tuned Decision Tree R-squared: 0.9305016170781142\n"
          ]
        }
      ]
    },
    {
      "cell_type": "markdown",
      "source": [
        "# Random Forest"
      ],
      "metadata": {
        "id": "2daGUYZ0ZZmA"
      }
    },
    {
      "cell_type": "code",
      "source": [
        "# Import necessary libraries\n",
        "from sklearn.ensemble import RandomForestRegressor\n",
        "\n",
        "# Create a Random Forest Regression model\n",
        "random_forest_model = RandomForestRegressor(random_state=42)\n",
        "\n",
        "# Fit the model to the training data\n",
        "random_forest_model.fit(X_train, y_train)\n",
        "\n",
        "# Make predictions on the test data\n",
        "random_forest_predictions = random_forest_model.predict(X_test)\n",
        "\n",
        "# Evaluate the Random Forest Regression model\n",
        "random_forest_mse = mean_squared_error(y_test, random_forest_predictions)\n",
        "random_forest_r2 = r2_score(y_test, random_forest_predictions)\n",
        "\n",
        "# Print evaluation results\n",
        "print(\"Random Forest Mean Squared Error:\", random_forest_mse)\n",
        "print(\"Random Forest R-squared:\", random_forest_r2)\n"
      ],
      "metadata": {
        "colab": {
          "base_uri": "https://localhost:8080/"
        },
        "id": "HjOLLeV2ZUS8",
        "outputId": "b5ef26e0-51f7-4095-8a4f-c629422c9570"
      },
      "execution_count": null,
      "outputs": [
        {
          "output_type": "stream",
          "name": "stdout",
          "text": [
            "Random Forest Mean Squared Error: 1.8159308843076913\n",
            "Random Forest R-squared: 0.9552694471728629\n"
          ]
        }
      ]
    },
    {
      "cell_type": "code",
      "source": [],
      "metadata": {
        "id": "oelE-H_2Zc8O"
      },
      "execution_count": null,
      "outputs": []
    }
  ]
}